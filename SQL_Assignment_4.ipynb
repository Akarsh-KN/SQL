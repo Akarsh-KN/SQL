{
 "cells": [
  {
   "cell_type": "code",
   "execution_count": null,
   "id": "60e4d9ec",
   "metadata": {},
   "outputs": [],
   "source": [
    "Q-1. Write an SQL query to print the FIRST_NAME from Worker table after replacing ‘a’ with ‘A’.\n",
    "Answer: Select REPLACE(FIRST_NAME,'a','A') from Worker;\n",
    "\n",
    "\n",
    "Q-2. Write an SQL query to print all Worker details from the Worker table order by FIRST_NAME Ascending and DEPARTMENT Descending.\n",
    "Answer: SELECT * FROM Worker ORDER BY  FIRST_NAME asc, DEPARTMENT desc;\n",
    "\n",
    "\n",
    "Q-3. Write an SQL query to fetch the names of workers who earn the highest salary.\n",
    "Answer:\n",
    "SELECT names, department FROM Worker WHERE salary IN ( SELECT MAX(Salary) from Department where dep_ID IN (SELECT DISTINCT Department from Worker));\n"
   ]
  }
 ],
 "metadata": {
  "kernelspec": {
   "display_name": "Python 3 (ipykernel)",
   "language": "python",
   "name": "python3"
  },
  "language_info": {
   "codemirror_mode": {
    "name": "ipython",
    "version": 3
   },
   "file_extension": ".py",
   "mimetype": "text/x-python",
   "name": "python",
   "nbconvert_exporter": "python",
   "pygments_lexer": "ipython3",
   "version": "3.9.7"
  }
 },
 "nbformat": 4,
 "nbformat_minor": 5
}
