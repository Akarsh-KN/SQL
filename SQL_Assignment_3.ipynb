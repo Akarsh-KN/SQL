Q-1. Write an SQL query to print the FIRST_NAME from Worker table after removing white spaces from the right side.
Answer: SELECT RTRIM(FIRST_NAME) FROM Worker;

Q-2. Write an SQL query that fetches the unique values of DEPARTMENT from Worker table and prints its length.
Answer: SELECT DISTINCT DEPARTMENT FROM Worker;


Q-3. Write an SQL query to fetch nth max salaries from a table.
Answer: Select Salary from table_name order by Salary limit DESC n-1,1;
