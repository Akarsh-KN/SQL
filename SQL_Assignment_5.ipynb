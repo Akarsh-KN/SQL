{
 "cells": [
  {
   "cell_type": "code",
   "execution_count": null,
   "id": "6157c2da",
   "metadata": {},
   "outputs": [],
   "source": [
    "Q-1. Write an SQL query to print details of workers excluding first names, “Vipul” and “Satish” from Worker table.\n",
    "Answer: Select * from Worker where FIRST_NAME not in ('Vipul','Satish');\n",
    "\n",
    "\n",
    "\n",
    "Q-2. Write an SQL query to print details of the Workers whose FIRST_NAME ends with ‘h’ and contains six alphabets.\n",
    "Answer: SELECT * FROM Worker WHERE FIRST_NAME LIKE %h;\n",
    "    \n",
    "\n",
    "Q-3. Write a query to validate Email of Employee.\n",
    "Answer: SELECT * FROM Worker WHERE Emai_id LIKE %@gmail.com;\n",
    "\n",
    "\n"
   ]
  }
 ],
 "metadata": {
  "kernelspec": {
   "display_name": "Python 3 (ipykernel)",
   "language": "python",
   "name": "python3"
  },
  "language_info": {
   "codemirror_mode": {
    "name": "ipython",
    "version": 3
   },
   "file_extension": ".py",
   "mimetype": "text/x-python",
   "name": "python",
   "nbconvert_exporter": "python",
   "pygments_lexer": "ipython3",
   "version": "3.9.7"
  }
 },
 "nbformat": 4,
 "nbformat_minor": 5
}
