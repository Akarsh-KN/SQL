{
 "cells": [
  {
   "cell_type": "code",
   "execution_count": null,
   "id": "1b76b63b",
   "metadata": {},
   "outputs": [],
   "source": [
    "Q-1. Write an SQL query to fetch “FIRST_NAME” from Worker table using the alias name as <WORKER_NAME>.\n",
    "Answer: select FIRST_NAME WORKER_NAME from Worker;\n",
    "    \n",
    "    \n",
    "Q-2. Write an SQL query to fetch unique values of DEPARTMENT from Worker table.\n",
    "Answer: SELECT DISTINCT DEPARTMENT FROM Worker;\n",
    "    \n",
    "    \n",
    "    \n",
    "Q-3. Write an SQL query to show the last 5 record from a table.\n",
    "Answer: SELECT * FROM Worker ORDER BY ID DESC LIMIT 5;\n"
   ]
  }
 ],
 "metadata": {
  "kernelspec": {
   "display_name": "Python 3 (ipykernel)",
   "language": "python",
   "name": "python3"
  },
  "language_info": {
   "codemirror_mode": {
    "name": "ipython",
    "version": 3
   },
   "file_extension": ".py",
   "mimetype": "text/x-python",
   "name": "python",
   "nbconvert_exporter": "python",
   "pygments_lexer": "ipython3",
   "version": "3.9.7"
  }
 },
 "nbformat": 4,
 "nbformat_minor": 5
}
